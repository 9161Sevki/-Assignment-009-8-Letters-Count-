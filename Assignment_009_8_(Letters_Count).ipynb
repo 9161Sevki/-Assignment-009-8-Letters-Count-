{
  "nbformat": 4,
  "nbformat_minor": 0,
  "metadata": {
    "colab": {
      "name": " Assignment-009/8 (Letters Count).ipynb",
      "provenance": [],
      "authorship_tag": "ABX9TyPIWaXCq8VIZStHHU89NNEC",
      "include_colab_link": true
    },
    "kernelspec": {
      "name": "python3",
      "display_name": "Python 3"
    },
    "language_info": {
      "name": "python"
    }
  },
  "cells": [
    {
      "cell_type": "markdown",
      "metadata": {
        "id": "view-in-github",
        "colab_type": "text"
      },
      "source": [
        "<a href=\"https://colab.research.google.com/github/9161Sevki/-Assignment-009-8-Letters-Count-/blob/main/Assignment_009_8_(Letters_Count).ipynb\" target=\"_parent\"><img src=\"https://colab.research.google.com/assets/colab-badge.svg\" alt=\"Open In Colab\"/></a>"
      ]
    },
    {
      "cell_type": "code",
      "metadata": {
        "colab": {
          "base_uri": "https://localhost:8080/"
        },
        "id": "xZ4-cRvxPiJL",
        "outputId": "6392053a-913e-40aa-e811-9e72f67a6d79"
      },
      "source": [
        "dict ={}\n",
        "text_analysis = input(\"please enter a text : \")\n",
        "for x in text_analysis :\n",
        "  keys = dict.keys()\n",
        "  if x in keys :\n",
        "    dict[x] += 1\n",
        "  else :\n",
        "    dict[x] = 1\n",
        "print(dict)"
      ],
      "execution_count": 1,
      "outputs": [
        {
          "output_type": "stream",
          "text": [
            "please enter a text : 5\n",
            "{'5': 1}\n"
          ],
          "name": "stdout"
        }
      ]
    }
  ]
}